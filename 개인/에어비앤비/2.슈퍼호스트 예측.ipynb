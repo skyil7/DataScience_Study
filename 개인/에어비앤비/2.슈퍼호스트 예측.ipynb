{
 "cells": [
  {
   "cell_type": "markdown",
   "metadata": {},
   "source": [
    "# 데이터 전처리"
   ]
  },
  {
   "cell_type": "code",
   "execution_count": 1,
   "metadata": {
    "pycharm": {
     "is_executing": false
    }
   },
   "outputs": [],
   "source": [
    "import tensorflow as tf\n",
    "import tensorflow.keras\n",
    "import pandas as pd\n",
    "import numpy as np\n",
    "import matplotlib.pyplot as plt"
   ]
  },
  {
   "cell_type": "code",
   "execution_count": 2,
   "outputs": [],
   "source": [
    "def bar_chart(feature):\n",
    "    t = data[data['host_is_superhost']==1][feature].value_counts()\n",
    "    f = data[data['host_is_superhost']==0][feature].value_counts()\n",
    "    df=pd.DataFrame([t, f])\n",
    "    df.index = ['super', 'not super']\n",
    "    df.plot(kind='bar', stacked=True, figsize=(10,5))"
   ],
   "metadata": {
    "collapsed": false,
    "pycharm": {
     "name": "#%%\n",
     "is_executing": false
    }
   }
  },
  {
   "cell_type": "code",
   "execution_count": 3,
   "metadata": {
    "pycharm": {
     "is_executing": false
    }
   },
   "outputs": [],
   "source": [
    "data = pd.read_csv('listings_Denvor_1.csv')"
   ]
  },
  {
   "cell_type": "code",
   "execution_count": 4,
   "metadata": {
    "pycharm": {
     "is_executing": false
    }
   },
   "outputs": [
    {
     "data": {
      "text/plain": "   Unnamed: 0    id                                         name  host_id  \\\n0           0   360  LoHi Secret garden at the Chickadee Cottage      666   \n1           1   590            Comfortable  - and a great value!      933   \n2           2   592                                      private      933   \n3           3  1940             Baker Studio Close to EVERYTHING     2150   \n4           4  2086                           Garden Level Condo     2284   \n\n             host_name  host_since host_is_superhost neighbourhood_cleansed  \\\n0  Jennifer & Giovanni          11                 t               Highland   \n1                 Jill          11                 t        North Park Hill   \n2                 Jill          11                 t        North Park Hill   \n3               Joanne          11                 t                  Baker   \n4                 Katy          11                 f                   Hale   \n\n     city  market  ... beds     price extra_people  minimum_nights  \\\n0  Denver  Denver  ...    3  $140.00       $15.00                1   \n1  Denver  Denver  ...    1   $61.00        $5.00                1   \n2  Denver  Denver  ...    1   $42.00        $5.00               30   \n3  Denver  Denver  ...    1   $95.00      $100.00                2   \n4  Denver  Denver  ...    1   $76.00       $25.00              180   \n\n   maximum_nights availability_365 number_of_reviews  number_of_reviews_ltm  \\\n0              29              319                82                     68   \n1             300               64               585                     37   \n2             365              130               176                      8   \n3             120              137                41                     19   \n4            1125              358                12                      1   \n\n   review_scores_rating  reviews_per_month  \n0                 100.0               5.94  \n1                  97.0               4.57  \n2                  97.0               1.36  \n3                  99.0               1.26  \n4                  96.0               0.63  \n\n[5 rows x 30 columns]",
      "text/html": "<div>\n<style scoped>\n    .dataframe tbody tr th:only-of-type {\n        vertical-align: middle;\n    }\n\n    .dataframe tbody tr th {\n        vertical-align: top;\n    }\n\n    .dataframe thead th {\n        text-align: right;\n    }\n</style>\n<table border=\"1\" class=\"dataframe\">\n  <thead>\n    <tr style=\"text-align: right;\">\n      <th></th>\n      <th>Unnamed: 0</th>\n      <th>id</th>\n      <th>name</th>\n      <th>host_id</th>\n      <th>host_name</th>\n      <th>host_since</th>\n      <th>host_is_superhost</th>\n      <th>neighbourhood_cleansed</th>\n      <th>city</th>\n      <th>market</th>\n      <th>...</th>\n      <th>beds</th>\n      <th>price</th>\n      <th>extra_people</th>\n      <th>minimum_nights</th>\n      <th>maximum_nights</th>\n      <th>availability_365</th>\n      <th>number_of_reviews</th>\n      <th>number_of_reviews_ltm</th>\n      <th>review_scores_rating</th>\n      <th>reviews_per_month</th>\n    </tr>\n  </thead>\n  <tbody>\n    <tr>\n      <th>0</th>\n      <td>0</td>\n      <td>360</td>\n      <td>LoHi Secret garden at the Chickadee Cottage</td>\n      <td>666</td>\n      <td>Jennifer &amp; Giovanni</td>\n      <td>11</td>\n      <td>t</td>\n      <td>Highland</td>\n      <td>Denver</td>\n      <td>Denver</td>\n      <td>...</td>\n      <td>3</td>\n      <td>$140.00</td>\n      <td>$15.00</td>\n      <td>1</td>\n      <td>29</td>\n      <td>319</td>\n      <td>82</td>\n      <td>68</td>\n      <td>100.0</td>\n      <td>5.94</td>\n    </tr>\n    <tr>\n      <th>1</th>\n      <td>1</td>\n      <td>590</td>\n      <td>Comfortable  - and a great value!</td>\n      <td>933</td>\n      <td>Jill</td>\n      <td>11</td>\n      <td>t</td>\n      <td>North Park Hill</td>\n      <td>Denver</td>\n      <td>Denver</td>\n      <td>...</td>\n      <td>1</td>\n      <td>$61.00</td>\n      <td>$5.00</td>\n      <td>1</td>\n      <td>300</td>\n      <td>64</td>\n      <td>585</td>\n      <td>37</td>\n      <td>97.0</td>\n      <td>4.57</td>\n    </tr>\n    <tr>\n      <th>2</th>\n      <td>2</td>\n      <td>592</td>\n      <td>private</td>\n      <td>933</td>\n      <td>Jill</td>\n      <td>11</td>\n      <td>t</td>\n      <td>North Park Hill</td>\n      <td>Denver</td>\n      <td>Denver</td>\n      <td>...</td>\n      <td>1</td>\n      <td>$42.00</td>\n      <td>$5.00</td>\n      <td>30</td>\n      <td>365</td>\n      <td>130</td>\n      <td>176</td>\n      <td>8</td>\n      <td>97.0</td>\n      <td>1.36</td>\n    </tr>\n    <tr>\n      <th>3</th>\n      <td>3</td>\n      <td>1940</td>\n      <td>Baker Studio Close to EVERYTHING</td>\n      <td>2150</td>\n      <td>Joanne</td>\n      <td>11</td>\n      <td>t</td>\n      <td>Baker</td>\n      <td>Denver</td>\n      <td>Denver</td>\n      <td>...</td>\n      <td>1</td>\n      <td>$95.00</td>\n      <td>$100.00</td>\n      <td>2</td>\n      <td>120</td>\n      <td>137</td>\n      <td>41</td>\n      <td>19</td>\n      <td>99.0</td>\n      <td>1.26</td>\n    </tr>\n    <tr>\n      <th>4</th>\n      <td>4</td>\n      <td>2086</td>\n      <td>Garden Level Condo</td>\n      <td>2284</td>\n      <td>Katy</td>\n      <td>11</td>\n      <td>f</td>\n      <td>Hale</td>\n      <td>Denver</td>\n      <td>Denver</td>\n      <td>...</td>\n      <td>1</td>\n      <td>$76.00</td>\n      <td>$25.00</td>\n      <td>180</td>\n      <td>1125</td>\n      <td>358</td>\n      <td>12</td>\n      <td>1</td>\n      <td>96.0</td>\n      <td>0.63</td>\n    </tr>\n  </tbody>\n</table>\n<p>5 rows × 30 columns</p>\n</div>"
     },
     "metadata": {},
     "output_type": "execute_result",
     "execution_count": 4
    }
   ],
   "source": [
    "data.head()"
   ]
  },
  {
   "cell_type": "markdown",
   "metadata": {},
   "source": [
    "# 데이터 전처리 (신경망 삽입을 위해)\n",
    "슈퍼호스트 예측에 필요한 정보 외에는 싸그리 삭제할 것임.\n",
    "\n",
    "Unnamed:0, id, name, host_id, host_name 등 숙소 기본 정보 삭제\n",
    "\n",
    "위치 관련 정보는 대동소이하나, neighbourhood 가 diverse하고 상세하므로 이것만 남기고 삭제\n",
    "\n",
    "상세 좌표 삭제"
   ]
  },
  {
   "cell_type": "code",
   "execution_count": 5,
   "metadata": {
    "pycharm": {
     "is_executing": false
    }
   },
   "outputs": [],
   "source": [
    "data = data.drop('Unnamed: 0', axis=1)\n",
    "data = data.drop('id', axis=1)\n",
    "data = data.drop('name', axis=1)\n",
    "data = data.drop('host_id', axis=1)\n",
    "data = data.drop('host_name', axis=1)"
   ]
  },
  {
   "cell_type": "code",
   "execution_count": 6,
   "metadata": {
    "pycharm": {
     "is_executing": false
    }
   },
   "outputs": [],
   "source": [
    "data = data.drop('city', axis=1)\n",
    "data = data.drop('market', axis=1)\n",
    "data = data.drop('smart_location', axis=1)\n",
    "data = data.drop('country_code', axis=1)\n",
    "data = data.drop('country', axis=1)\n",
    "data = data.drop('latitude', axis=1)\n",
    "data = data.drop('longitude', axis=1)"
   ]
  },
  {
   "cell_type": "code",
   "execution_count": 7,
   "metadata": {
    "pycharm": {
     "is_executing": false
    }
   },
   "outputs": [
    {
     "data": {
      "text/plain": "   host_since host_is_superhost neighbourhood_cleansed property_type  \\\n0          11                 t               Highland    Guesthouse   \n1          11                 t        North Park Hill         House   \n2          11                 t        North Park Hill         House   \n3          11                 t                  Baker    Guesthouse   \n4          11                 f                   Hale     Apartment   \n\n         room_type  accommodates  bathrooms  bedrooms  beds     price  \\\n0  Entire home/apt             4        1.0         2     3  $140.00    \n1     Private room             3        1.0         1     1   $61.00    \n2     Private room             2        1.0         1     1   $42.00    \n3  Entire home/apt             2        1.0         0     1   $95.00    \n4  Entire home/apt             2        1.0         1     1   $76.00    \n\n  extra_people  minimum_nights  maximum_nights  availability_365  \\\n0      $15.00                1              29               319   \n1       $5.00                1             300                64   \n2       $5.00               30             365               130   \n3     $100.00                2             120               137   \n4      $25.00              180            1125               358   \n\n   number_of_reviews  number_of_reviews_ltm  review_scores_rating  \\\n0                 82                     68                 100.0   \n1                585                     37                  97.0   \n2                176                      8                  97.0   \n3                 41                     19                  99.0   \n4                 12                      1                  96.0   \n\n   reviews_per_month  \n0               5.94  \n1               4.57  \n2               1.36  \n3               1.26  \n4               0.63  ",
      "text/html": "<div>\n<style scoped>\n    .dataframe tbody tr th:only-of-type {\n        vertical-align: middle;\n    }\n\n    .dataframe tbody tr th {\n        vertical-align: top;\n    }\n\n    .dataframe thead th {\n        text-align: right;\n    }\n</style>\n<table border=\"1\" class=\"dataframe\">\n  <thead>\n    <tr style=\"text-align: right;\">\n      <th></th>\n      <th>host_since</th>\n      <th>host_is_superhost</th>\n      <th>neighbourhood_cleansed</th>\n      <th>property_type</th>\n      <th>room_type</th>\n      <th>accommodates</th>\n      <th>bathrooms</th>\n      <th>bedrooms</th>\n      <th>beds</th>\n      <th>price</th>\n      <th>extra_people</th>\n      <th>minimum_nights</th>\n      <th>maximum_nights</th>\n      <th>availability_365</th>\n      <th>number_of_reviews</th>\n      <th>number_of_reviews_ltm</th>\n      <th>review_scores_rating</th>\n      <th>reviews_per_month</th>\n    </tr>\n  </thead>\n  <tbody>\n    <tr>\n      <th>0</th>\n      <td>11</td>\n      <td>t</td>\n      <td>Highland</td>\n      <td>Guesthouse</td>\n      <td>Entire home/apt</td>\n      <td>4</td>\n      <td>1.0</td>\n      <td>2</td>\n      <td>3</td>\n      <td>$140.00</td>\n      <td>$15.00</td>\n      <td>1</td>\n      <td>29</td>\n      <td>319</td>\n      <td>82</td>\n      <td>68</td>\n      <td>100.0</td>\n      <td>5.94</td>\n    </tr>\n    <tr>\n      <th>1</th>\n      <td>11</td>\n      <td>t</td>\n      <td>North Park Hill</td>\n      <td>House</td>\n      <td>Private room</td>\n      <td>3</td>\n      <td>1.0</td>\n      <td>1</td>\n      <td>1</td>\n      <td>$61.00</td>\n      <td>$5.00</td>\n      <td>1</td>\n      <td>300</td>\n      <td>64</td>\n      <td>585</td>\n      <td>37</td>\n      <td>97.0</td>\n      <td>4.57</td>\n    </tr>\n    <tr>\n      <th>2</th>\n      <td>11</td>\n      <td>t</td>\n      <td>North Park Hill</td>\n      <td>House</td>\n      <td>Private room</td>\n      <td>2</td>\n      <td>1.0</td>\n      <td>1</td>\n      <td>1</td>\n      <td>$42.00</td>\n      <td>$5.00</td>\n      <td>30</td>\n      <td>365</td>\n      <td>130</td>\n      <td>176</td>\n      <td>8</td>\n      <td>97.0</td>\n      <td>1.36</td>\n    </tr>\n    <tr>\n      <th>3</th>\n      <td>11</td>\n      <td>t</td>\n      <td>Baker</td>\n      <td>Guesthouse</td>\n      <td>Entire home/apt</td>\n      <td>2</td>\n      <td>1.0</td>\n      <td>0</td>\n      <td>1</td>\n      <td>$95.00</td>\n      <td>$100.00</td>\n      <td>2</td>\n      <td>120</td>\n      <td>137</td>\n      <td>41</td>\n      <td>19</td>\n      <td>99.0</td>\n      <td>1.26</td>\n    </tr>\n    <tr>\n      <th>4</th>\n      <td>11</td>\n      <td>f</td>\n      <td>Hale</td>\n      <td>Apartment</td>\n      <td>Entire home/apt</td>\n      <td>2</td>\n      <td>1.0</td>\n      <td>1</td>\n      <td>1</td>\n      <td>$76.00</td>\n      <td>$25.00</td>\n      <td>180</td>\n      <td>1125</td>\n      <td>358</td>\n      <td>12</td>\n      <td>1</td>\n      <td>96.0</td>\n      <td>0.63</td>\n    </tr>\n  </tbody>\n</table>\n</div>"
     },
     "metadata": {},
     "output_type": "execute_result",
     "execution_count": 7
    }
   ],
   "source": [
    "data.head()"
   ]
  },
  {
   "cell_type": "markdown",
   "metadata": {},
   "source": [
    "price와 extra_people에서 달러 표기 제거"
   ]
  },
  {
   "cell_type": "code",
   "execution_count": 8,
   "metadata": {
    "pycharm": {
     "is_executing": false
    }
   },
   "outputs": [],
   "source": [
    "data['price'] = data['price'].replace('[\\$,]', '', regex=True).astype(float)\n",
    "data['extra_people'] = data['extra_people'].replace('[\\$,]', '', regex=True).astype(float)\n"
   ]
  },
  {
   "cell_type": "markdown",
   "source": [
    "- neighbourhood_cleansed 중 빈도가 50회 이하인 값은 Other로 치환\n",
    "    - 이때, 인접지역으로 치환할 수 있지만 이건 귀찮...\n",
    "- property_type, room_type은 비슷한 것끼리 묶어서 편하게 분류하고 50회 이하는 Other 치환\n",
    "    - Hotel room 은 Entire home 과 비슷하고, shared room 은 적지만 남겨야함\n",
    "\n",
    "이 때, Other가 신경망의 추론 결과에 영향을 주지 않도록 Other를 0으로 하는 벡터화"
   ],
   "metadata": {
    "collapsed": false
   }
  },
  {
   "cell_type": "code",
   "execution_count": 9,
   "outputs": [
    {
     "data": {
      "text/plain": "Entire home/apt    3095\nPrivate room        972\nShared room          57\nName: room_type, dtype: int64"
     },
     "metadata": {},
     "output_type": "execute_result",
     "execution_count": 9
    }
   ],
   "source": [
    "data = data.apply(lambda x: x.mask(x.map(x.value_counts())<50, 'Other') if x.name=='neighbourhood_cleansed' else x)\n",
    "\n",
    "data['property_type'] = data['property_type'].replace(['Aparthotel', 'Serviced apartment'], 'Apartment')\n",
    "data['property_type'] = data['property_type'].replace('Villa', 'Bungalow')\n",
    "data['property_type'] = data['property_type'].replace('Bungalow', 'Tiny house')\n",
    "data['property_type'] = data['property_type'].replace('Castle', 'Other')\n",
    "data = data.apply(lambda x: x.mask(x.map(x.value_counts())<50, 'Other') if x.name=='property_type' else x)\n",
    "\n",
    "data['room_type'] = data['room_type'].replace('Hotel room', 'Entire home/apt')\n",
    "\n",
    "data['room_type'].value_counts()"
   ],
   "metadata": {
    "collapsed": false,
    "pycharm": {
     "name": "#%%\n",
     "is_executing": false
    }
   }
  },
  {
   "cell_type": "code",
   "execution_count": 10,
   "outputs": [
    {
     "data": {
      "text/plain": "   host_since  accommodates  bathrooms  bedrooms  beds  price  extra_people  \\\n0          11             4        1.0         2     3  140.0          15.0   \n1          11             3        1.0         1     1   61.0           5.0   \n2          11             2        1.0         1     1   42.0           5.0   \n3          11             2        1.0         0     1   95.0         100.0   \n4          11             2        1.0         1     1   76.0          25.0   \n\n   minimum_nights  maximum_nights  availability_365  ...  \\\n0               1              29               319  ...   \n1               1             300                64  ...   \n2              30             365               130  ...   \n3               2             120               137  ...   \n4             180            1125               358  ...   \n\n   property_type_Condominium  property_type_Guest suite  \\\n0                          0                          0   \n1                          0                          0   \n2                          0                          0   \n3                          0                          0   \n4                          0                          0   \n\n   property_type_Guesthouse  property_type_House  property_type_Loft  \\\n0                         1                    0                   0   \n1                         0                    1                   0   \n2                         0                    1                   0   \n3                         1                    0                   0   \n4                         0                    0                   0   \n\n   property_type_Tiny house  property_type_Townhouse  \\\n0                         0                        0   \n1                         0                        0   \n2                         0                        0   \n3                         0                        0   \n4                         0                        0   \n\n   room_type_Entire home/apt  room_type_Private room  room_type_Shared room  \n0                          1                       0                      0  \n1                          0                       1                      0  \n2                          0                       1                      0  \n3                          1                       0                      0  \n4                          1                       0                      0  \n\n[5 rows x 53 columns]",
      "text/html": "<div>\n<style scoped>\n    .dataframe tbody tr th:only-of-type {\n        vertical-align: middle;\n    }\n\n    .dataframe tbody tr th {\n        vertical-align: top;\n    }\n\n    .dataframe thead th {\n        text-align: right;\n    }\n</style>\n<table border=\"1\" class=\"dataframe\">\n  <thead>\n    <tr style=\"text-align: right;\">\n      <th></th>\n      <th>host_since</th>\n      <th>accommodates</th>\n      <th>bathrooms</th>\n      <th>bedrooms</th>\n      <th>beds</th>\n      <th>price</th>\n      <th>extra_people</th>\n      <th>minimum_nights</th>\n      <th>maximum_nights</th>\n      <th>availability_365</th>\n      <th>...</th>\n      <th>property_type_Condominium</th>\n      <th>property_type_Guest suite</th>\n      <th>property_type_Guesthouse</th>\n      <th>property_type_House</th>\n      <th>property_type_Loft</th>\n      <th>property_type_Tiny house</th>\n      <th>property_type_Townhouse</th>\n      <th>room_type_Entire home/apt</th>\n      <th>room_type_Private room</th>\n      <th>room_type_Shared room</th>\n    </tr>\n  </thead>\n  <tbody>\n    <tr>\n      <th>0</th>\n      <td>11</td>\n      <td>4</td>\n      <td>1.0</td>\n      <td>2</td>\n      <td>3</td>\n      <td>140.0</td>\n      <td>15.0</td>\n      <td>1</td>\n      <td>29</td>\n      <td>319</td>\n      <td>...</td>\n      <td>0</td>\n      <td>0</td>\n      <td>1</td>\n      <td>0</td>\n      <td>0</td>\n      <td>0</td>\n      <td>0</td>\n      <td>1</td>\n      <td>0</td>\n      <td>0</td>\n    </tr>\n    <tr>\n      <th>1</th>\n      <td>11</td>\n      <td>3</td>\n      <td>1.0</td>\n      <td>1</td>\n      <td>1</td>\n      <td>61.0</td>\n      <td>5.0</td>\n      <td>1</td>\n      <td>300</td>\n      <td>64</td>\n      <td>...</td>\n      <td>0</td>\n      <td>0</td>\n      <td>0</td>\n      <td>1</td>\n      <td>0</td>\n      <td>0</td>\n      <td>0</td>\n      <td>0</td>\n      <td>1</td>\n      <td>0</td>\n    </tr>\n    <tr>\n      <th>2</th>\n      <td>11</td>\n      <td>2</td>\n      <td>1.0</td>\n      <td>1</td>\n      <td>1</td>\n      <td>42.0</td>\n      <td>5.0</td>\n      <td>30</td>\n      <td>365</td>\n      <td>130</td>\n      <td>...</td>\n      <td>0</td>\n      <td>0</td>\n      <td>0</td>\n      <td>1</td>\n      <td>0</td>\n      <td>0</td>\n      <td>0</td>\n      <td>0</td>\n      <td>1</td>\n      <td>0</td>\n    </tr>\n    <tr>\n      <th>3</th>\n      <td>11</td>\n      <td>2</td>\n      <td>1.0</td>\n      <td>0</td>\n      <td>1</td>\n      <td>95.0</td>\n      <td>100.0</td>\n      <td>2</td>\n      <td>120</td>\n      <td>137</td>\n      <td>...</td>\n      <td>0</td>\n      <td>0</td>\n      <td>1</td>\n      <td>0</td>\n      <td>0</td>\n      <td>0</td>\n      <td>0</td>\n      <td>1</td>\n      <td>0</td>\n      <td>0</td>\n    </tr>\n    <tr>\n      <th>4</th>\n      <td>11</td>\n      <td>2</td>\n      <td>1.0</td>\n      <td>1</td>\n      <td>1</td>\n      <td>76.0</td>\n      <td>25.0</td>\n      <td>180</td>\n      <td>1125</td>\n      <td>358</td>\n      <td>...</td>\n      <td>0</td>\n      <td>0</td>\n      <td>0</td>\n      <td>0</td>\n      <td>0</td>\n      <td>0</td>\n      <td>0</td>\n      <td>1</td>\n      <td>0</td>\n      <td>0</td>\n    </tr>\n  </tbody>\n</table>\n<p>5 rows × 53 columns</p>\n</div>"
     },
     "metadata": {},
     "output_type": "execute_result",
     "execution_count": 10
    }
   ],
   "source": [
    "data = pd.get_dummies(data) #원-핫 인코딩\n",
    "\n",
    "data = data.drop('neighbourhood_cleansed_Other', axis=1)\n",
    "data = data.drop('property_type_Other', axis=1)\n",
    "\n",
    "data.head()"
   ],
   "metadata": {
    "collapsed": false,
    "pycharm": {
     "name": "#%%\n",
     "is_executing": false
    }
   }
  },
  {
   "cell_type": "markdown",
   "source": [
    "데이터 중 너무 값이 큰 열들 0~1로 범위 축소"
   ],
   "metadata": {
    "collapsed": false
   }
  },
  {
   "cell_type": "code",
   "execution_count": 11,
   "outputs": [
    {
     "data": {
      "text/plain": "        host_since  accommodates    bathrooms     bedrooms         beds  \\\ncount  4124.000000   4124.000000  4124.000000  4124.000000  4124.000000   \nmean      0.337250      0.237350     0.085276     0.185904     0.153215   \nstd       0.194473      0.154684     0.052092     0.121171     0.112619   \nmin       0.000000      0.055556     0.000000     0.000000     0.000000   \n25%       0.181818      0.111111     0.058824     0.111111     0.071429   \n50%       0.363636      0.222222     0.058824     0.111111     0.142857   \n75%       0.454545      0.333333     0.117647     0.222222     0.214286   \nmax       1.000000      1.000000     1.000000     1.000000     1.000000   \n\n             price  extra_people  minimum_nights  maximum_nights  \\\ncount  4124.000000   4124.000000     4124.000000     4124.000000   \nmean      0.016406      0.043323        0.005495        0.309453   \nstd       0.044069      0.072783        0.025947        0.293052   \nmin       0.001000      0.000000        0.000890        0.000548   \n25%       0.007201      0.000000        0.000890        0.015342   \n50%       0.010001      0.016667        0.001779        0.200000   \n75%       0.015802      0.066667        0.001779        0.616438   \nmax       1.000000      1.000000        1.000000        1.000000   \n\n       availability_365  ...  property_type_Condominium  \\\ncount       4124.000000  ...                4124.000000   \nmean           0.362720  ...                   0.082687   \nstd            0.334472  ...                   0.275441   \nmin            0.000000  ...                   0.000000   \n25%            0.060274  ...                   0.000000   \n50%            0.238356  ...                   0.000000   \n75%            0.638356  ...                   0.000000   \nmax            1.000000  ...                   1.000000   \n\n       property_type_Guest suite  property_type_Guesthouse  \\\ncount                4124.000000               4124.000000   \nmean                    0.098691                  0.040737   \nstd                     0.298282                  0.197705   \nmin                     0.000000                  0.000000   \n25%                     0.000000                  0.000000   \n50%                     0.000000                  0.000000   \n75%                     0.000000                  0.000000   \nmax                     1.000000                  1.000000   \n\n       property_type_House  property_type_Loft  property_type_Tiny house  \\\ncount          4124.000000         4124.000000               4124.000000   \nmean              0.384336            0.022551                  0.049709   \nstd               0.486497            0.148485                  0.217369   \nmin               0.000000            0.000000                  0.000000   \n25%               0.000000            0.000000                  0.000000   \n50%               0.000000            0.000000                  0.000000   \n75%               1.000000            0.000000                  0.000000   \nmax               1.000000            1.000000                  1.000000   \n\n       property_type_Townhouse  room_type_Entire home/apt  \\\ncount              4124.000000                4124.000000   \nmean                  0.125606                   0.750485   \nstd                   0.331445                   0.432785   \nmin                   0.000000                   0.000000   \n25%                   0.000000                   1.000000   \n50%                   0.000000                   1.000000   \n75%                   0.000000                   1.000000   \nmax                   1.000000                   1.000000   \n\n       room_type_Private room  room_type_Shared room  \ncount             4124.000000            4124.000000  \nmean                 0.235694               0.013822  \nstd                  0.424483               0.116764  \nmin                  0.000000               0.000000  \n25%                  0.000000               0.000000  \n50%                  0.000000               0.000000  \n75%                  0.000000               0.000000  \nmax                  1.000000               1.000000  \n\n[8 rows x 53 columns]",
      "text/html": "<div>\n<style scoped>\n    .dataframe tbody tr th:only-of-type {\n        vertical-align: middle;\n    }\n\n    .dataframe tbody tr th {\n        vertical-align: top;\n    }\n\n    .dataframe thead th {\n        text-align: right;\n    }\n</style>\n<table border=\"1\" class=\"dataframe\">\n  <thead>\n    <tr style=\"text-align: right;\">\n      <th></th>\n      <th>host_since</th>\n      <th>accommodates</th>\n      <th>bathrooms</th>\n      <th>bedrooms</th>\n      <th>beds</th>\n      <th>price</th>\n      <th>extra_people</th>\n      <th>minimum_nights</th>\n      <th>maximum_nights</th>\n      <th>availability_365</th>\n      <th>...</th>\n      <th>property_type_Condominium</th>\n      <th>property_type_Guest suite</th>\n      <th>property_type_Guesthouse</th>\n      <th>property_type_House</th>\n      <th>property_type_Loft</th>\n      <th>property_type_Tiny house</th>\n      <th>property_type_Townhouse</th>\n      <th>room_type_Entire home/apt</th>\n      <th>room_type_Private room</th>\n      <th>room_type_Shared room</th>\n    </tr>\n  </thead>\n  <tbody>\n    <tr>\n      <th>count</th>\n      <td>4124.000000</td>\n      <td>4124.000000</td>\n      <td>4124.000000</td>\n      <td>4124.000000</td>\n      <td>4124.000000</td>\n      <td>4124.000000</td>\n      <td>4124.000000</td>\n      <td>4124.000000</td>\n      <td>4124.000000</td>\n      <td>4124.000000</td>\n      <td>...</td>\n      <td>4124.000000</td>\n      <td>4124.000000</td>\n      <td>4124.000000</td>\n      <td>4124.000000</td>\n      <td>4124.000000</td>\n      <td>4124.000000</td>\n      <td>4124.000000</td>\n      <td>4124.000000</td>\n      <td>4124.000000</td>\n      <td>4124.000000</td>\n    </tr>\n    <tr>\n      <th>mean</th>\n      <td>0.337250</td>\n      <td>0.237350</td>\n      <td>0.085276</td>\n      <td>0.185904</td>\n      <td>0.153215</td>\n      <td>0.016406</td>\n      <td>0.043323</td>\n      <td>0.005495</td>\n      <td>0.309453</td>\n      <td>0.362720</td>\n      <td>...</td>\n      <td>0.082687</td>\n      <td>0.098691</td>\n      <td>0.040737</td>\n      <td>0.384336</td>\n      <td>0.022551</td>\n      <td>0.049709</td>\n      <td>0.125606</td>\n      <td>0.750485</td>\n      <td>0.235694</td>\n      <td>0.013822</td>\n    </tr>\n    <tr>\n      <th>std</th>\n      <td>0.194473</td>\n      <td>0.154684</td>\n      <td>0.052092</td>\n      <td>0.121171</td>\n      <td>0.112619</td>\n      <td>0.044069</td>\n      <td>0.072783</td>\n      <td>0.025947</td>\n      <td>0.293052</td>\n      <td>0.334472</td>\n      <td>...</td>\n      <td>0.275441</td>\n      <td>0.298282</td>\n      <td>0.197705</td>\n      <td>0.486497</td>\n      <td>0.148485</td>\n      <td>0.217369</td>\n      <td>0.331445</td>\n      <td>0.432785</td>\n      <td>0.424483</td>\n      <td>0.116764</td>\n    </tr>\n    <tr>\n      <th>min</th>\n      <td>0.000000</td>\n      <td>0.055556</td>\n      <td>0.000000</td>\n      <td>0.000000</td>\n      <td>0.000000</td>\n      <td>0.001000</td>\n      <td>0.000000</td>\n      <td>0.000890</td>\n      <td>0.000548</td>\n      <td>0.000000</td>\n      <td>...</td>\n      <td>0.000000</td>\n      <td>0.000000</td>\n      <td>0.000000</td>\n      <td>0.000000</td>\n      <td>0.000000</td>\n      <td>0.000000</td>\n      <td>0.000000</td>\n      <td>0.000000</td>\n      <td>0.000000</td>\n      <td>0.000000</td>\n    </tr>\n    <tr>\n      <th>25%</th>\n      <td>0.181818</td>\n      <td>0.111111</td>\n      <td>0.058824</td>\n      <td>0.111111</td>\n      <td>0.071429</td>\n      <td>0.007201</td>\n      <td>0.000000</td>\n      <td>0.000890</td>\n      <td>0.015342</td>\n      <td>0.060274</td>\n      <td>...</td>\n      <td>0.000000</td>\n      <td>0.000000</td>\n      <td>0.000000</td>\n      <td>0.000000</td>\n      <td>0.000000</td>\n      <td>0.000000</td>\n      <td>0.000000</td>\n      <td>1.000000</td>\n      <td>0.000000</td>\n      <td>0.000000</td>\n    </tr>\n    <tr>\n      <th>50%</th>\n      <td>0.363636</td>\n      <td>0.222222</td>\n      <td>0.058824</td>\n      <td>0.111111</td>\n      <td>0.142857</td>\n      <td>0.010001</td>\n      <td>0.016667</td>\n      <td>0.001779</td>\n      <td>0.200000</td>\n      <td>0.238356</td>\n      <td>...</td>\n      <td>0.000000</td>\n      <td>0.000000</td>\n      <td>0.000000</td>\n      <td>0.000000</td>\n      <td>0.000000</td>\n      <td>0.000000</td>\n      <td>0.000000</td>\n      <td>1.000000</td>\n      <td>0.000000</td>\n      <td>0.000000</td>\n    </tr>\n    <tr>\n      <th>75%</th>\n      <td>0.454545</td>\n      <td>0.333333</td>\n      <td>0.117647</td>\n      <td>0.222222</td>\n      <td>0.214286</td>\n      <td>0.015802</td>\n      <td>0.066667</td>\n      <td>0.001779</td>\n      <td>0.616438</td>\n      <td>0.638356</td>\n      <td>...</td>\n      <td>0.000000</td>\n      <td>0.000000</td>\n      <td>0.000000</td>\n      <td>1.000000</td>\n      <td>0.000000</td>\n      <td>0.000000</td>\n      <td>0.000000</td>\n      <td>1.000000</td>\n      <td>0.000000</td>\n      <td>0.000000</td>\n    </tr>\n    <tr>\n      <th>max</th>\n      <td>1.000000</td>\n      <td>1.000000</td>\n      <td>1.000000</td>\n      <td>1.000000</td>\n      <td>1.000000</td>\n      <td>1.000000</td>\n      <td>1.000000</td>\n      <td>1.000000</td>\n      <td>1.000000</td>\n      <td>1.000000</td>\n      <td>...</td>\n      <td>1.000000</td>\n      <td>1.000000</td>\n      <td>1.000000</td>\n      <td>1.000000</td>\n      <td>1.000000</td>\n      <td>1.000000</td>\n      <td>1.000000</td>\n      <td>1.000000</td>\n      <td>1.000000</td>\n      <td>1.000000</td>\n    </tr>\n  </tbody>\n</table>\n<p>8 rows × 53 columns</p>\n</div>"
     },
     "metadata": {},
     "output_type": "execute_result",
     "execution_count": 11
    }
   ],
   "source": [
    "def normalize(col):\n",
    "    data[col] = data[col]/data[col].max()\n",
    "\n",
    "normalize('host_since')\n",
    "normalize('accommodates')\n",
    "normalize('bathrooms')\n",
    "normalize('bedrooms')\n",
    "normalize('beds')\n",
    "normalize('price')\n",
    "normalize('extra_people')\n",
    "normalize('minimum_nights')\n",
    "normalize('maximum_nights')\n",
    "normalize('availability_365')\n",
    "normalize('number_of_reviews')\n",
    "normalize('number_of_reviews_ltm')\n",
    "normalize('review_scores_rating')\n",
    "normalize('reviews_per_month')\n",
    "\n",
    "data.describe()"
   ],
   "metadata": {
    "collapsed": false,
    "pycharm": {
     "name": "#%%\n",
     "is_executing": false
    }
   }
  },
  {
   "cell_type": "code",
   "execution_count": 12,
   "metadata": {
    "pycharm": {
     "is_executing": false
    }
   },
   "outputs": [
    {
     "name": "stdout",
     "text": [
      "(3700, 51)\n"
     ],
     "output_type": "stream"
    }
   ],
   "source": [
    "unknown_data = data[data['host_is_superhost_t']==0]\n",
    "unknown_data = unknown_data[unknown_data['host_is_superhost_f']==0]\n",
    "unknown_data = unknown_data.drop('host_is_superhost_t', axis=1)\n",
    "unknown_data = unknown_data.drop('host_is_superhost_f', axis=1)\n",
    "data = data.drop('host_is_superhost_f', axis=1)\n",
    "\n",
    "#데이터 4124 개 중, unknown이 4개, train 3500개, vali 200개, test 420개 사용\n",
    "train_x = data[:3700]\n",
    "train_y = train_x['host_is_superhost_t']\n",
    "train_x = train_x.drop('host_is_superhost_t', axis=1)\n",
    "\n",
    "test_x = data[3700:]\n",
    "test_y = test_x['host_is_superhost_t']\n",
    "test_x = test_x.drop('host_is_superhost_t', axis=1)\n",
    "\n",
    "print(train_x.shape)"
   ]
  },
  {
   "cell_type": "markdown",
   "source": [
    "# 학습"
   ],
   "metadata": {
    "collapsed": false,
    "pycharm": {
     "name": "#%% md\n"
    }
   }
  },
  {
   "cell_type": "code",
   "execution_count": 13,
   "outputs": [],
   "source": [
    "from tensorflow.keras.layers import *\n",
    "from tensorflow.keras.models import Model"
   ],
   "metadata": {
    "collapsed": false,
    "pycharm": {
     "name": "#%%\n",
     "is_executing": false
    }
   }
  },
  {
   "cell_type": "code",
   "execution_count": 14,
   "metadata": {
    "pycharm": {
     "is_executing": false
    }
   },
   "outputs": [
    {
     "name": "stdout",
     "text": [
      "Model: \"model\"\n_________________________________________________________________\nLayer (type)                 Output Shape              Param #   \n=================================================================\ninput_1 (InputLayer)         [(None, 51)]              0         \n_________________________________________________________________\ndense (Dense)                (None, 64)                3328      \n_________________________________________________________________\nre_lu (ReLU)                 (None, 64)                0         \n_________________________________________________________________\ndense_1 (Dense)              (None, 64)                4160      \n_________________________________________________________________\nre_lu_1 (ReLU)               (None, 64)                0         \n_________________________________________________________________\ndense_2 (Dense)              (None, 64)                4160      \n_________________________________________________________________\nre_lu_2 (ReLU)               (None, 64)                0         \n_________________________________________________________________\ndropout (Dropout)            (None, 64)                0         \n_________________________________________________________________\ndense_3 (Dense)              (None, 1)                 65        \n_________________________________________________________________\nactivation (Activation)      (None, 1)                 0         \n=================================================================\nTotal params: 11,713\nTrainable params: 11,713\nNon-trainable params: 0\n_________________________________________________________________\n"
     ],
     "output_type": "stream"
    }
   ],
   "source": [
    "def new_model():\n",
    "    input_layer = Input((train_x.shape[1]))\n",
    "    \n",
    "    x = Dense(64)(input_layer)\n",
    "    x = ReLU()(x)\n",
    "    x = Dense(64)(x)\n",
    "    x = ReLU()(x)\n",
    "    x = Dense(64)(x)\n",
    "    x = ReLU()(x)\n",
    "    x = Dropout(0.5)(x)\n",
    "    \n",
    "    x = Dense(1)(x)\n",
    "    output_layer = Activation('sigmoid')(x)\n",
    "    \n",
    "    model = Model(input_layer, output_layer)\n",
    "    model.compile(loss='binary_crossentropy', optimizer='Adam', metrics=['accuracy'])\n",
    "    return model\n",
    "\n",
    "model = new_model()\n",
    "model.summary()"
   ]
  },
  {
   "cell_type": "code",
   "execution_count": 15,
   "outputs": [
    {
     "name": "stdout",
     "text": [
      "WARNING:tensorflow:Falling back from v2 loop because of error: Failed to find data adapter that can handle input: <class 'pandas.core.frame.DataFrame'>, <class 'NoneType'>\n",
      "WARNING:tensorflow:Falling back from v2 loop because of error: Failed to find data adapter that can handle input: <class 'pandas.core.frame.DataFrame'>, <class 'NoneType'>\n",
      "424/424 - 0s - loss: 0.6233 - accuracy: 0.6745\n"
     ],
     "output_type": "stream"
    },
    {
     "data": {
      "text/plain": "[0.6233011315453727, 0.6745283]"
     },
     "metadata": {},
     "output_type": "execute_result",
     "execution_count": 15
    }
   ],
   "source": [
    "model.fit(train_x, train_y, batch_size=500, epochs=30, shuffle=True, verbose=0)\n",
    "model.evaluate(test_x, test_y, verbose=2)"
   ],
   "metadata": {
    "collapsed": false,
    "pycharm": {
     "name": "#%%\n",
     "is_executing": false
    }
   }
  },
  {
   "cell_type": "code",
   "execution_count": 16,
   "outputs": [
    {
     "name": "stdout",
     "text": [
      "(3700, 51)\n(4, 51)\n"
     ],
     "output_type": "stream"
    }
   ],
   "source": [
    "print(train_x.shape)\n",
    "print(unknown_data.shape)"
   ],
   "metadata": {
    "collapsed": false,
    "pycharm": {
     "name": "#%%\n",
     "is_executing": false
    }
   }
  },
  {
   "cell_type": "code",
   "execution_count": 35,
   "outputs": [
    {
     "name": "stdout",
     "text": [
      "WARNING:tensorflow:Falling back from v2 loop because of error: Failed to find data adapter that can handle input: <class 'pandas.core.frame.DataFrame'>, <class 'NoneType'>\n",
      "[[0.31229997]\n [0.1284486 ]\n [0.25432885]\n [0.45966718]]\n"
     ],
     "output_type": "stream"
    }
   ],
   "source": [
    "preds = model.predict(unknown_data)\n",
    "print(preds)"
   ],
   "metadata": {
    "collapsed": false,
    "pycharm": {
     "name": "#%%\n",
     "is_executing": false
    }
   }
  },
  {
   "cell_type": "markdown",
   "source": [
    "예측한 정보를 csv에 저장"
   ],
   "metadata": {
    "collapsed": false,
    "pycharm": {
     "name": "#%% md\n"
    }
   }
  },
  {
   "cell_type": "code",
   "execution_count": 80,
   "outputs": [],
   "source": [
    "data = pd.read_csv('listings_Denvor_1.csv')\n",
    "data = data.drop('Unnamed: 0', axis=1)\n",
    "\n",
    "label = []\n",
    "\n",
    "for pred in preds:\n",
    "    flag = 't'\n",
    "    if pred < 0.5:\n",
    "        flag = 'f'\n",
    "    label.append(flag)\n",
    "\n",
    "data.loc[data['host_is_superhost'].isnull(),'host_is_superhost'] = label\n",
    "data[data['id'] == 184529]\n",
    "\n",
    "data.to_csv(\"listings_Denvor_2.csv\")"
   ],
   "metadata": {
    "collapsed": false,
    "pycharm": {
     "name": "#%%\n",
     "is_executing": false
    }
   }
  }
 ],
 "metadata": {
  "kernelspec": {
   "display_name": "Python 3",
   "language": "python",
   "name": "python3"
  },
  "language_info": {
   "codemirror_mode": {
    "name": "ipython",
    "version": 3
   },
   "file_extension": ".py",
   "mimetype": "text/x-python",
   "name": "python",
   "nbconvert_exporter": "python",
   "pygments_lexer": "ipython3",
   "version": "3.7.5"
  },
  "pycharm": {
   "stem_cell": {
    "cell_type": "raw",
    "source": [],
    "metadata": {
     "collapsed": false
    }
   }
  }
 },
 "nbformat": 4,
 "nbformat_minor": 2
}