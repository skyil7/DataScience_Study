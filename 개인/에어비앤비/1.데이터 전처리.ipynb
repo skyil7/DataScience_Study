{
 "cells": [
  {
   "cell_type": "markdown",
   "metadata": {},
   "source": [
    "# 데이터 전처리"
   ]
  },
  {
   "cell_type": "code",
   "execution_count": 1,
   "metadata": {
    "pycharm": {
     "is_executing": false
    }
   },
   "outputs": [],
   "source": [
    "import pandas as pd\n",
    "import numpy as np\n",
    "import matplotlib.pyplot as plt"
   ]
  },
  {
   "cell_type": "code",
   "execution_count": 2,
   "metadata": {
    "pycharm": {
     "is_executing": false
    }
   },
   "outputs": [],
   "source": [
    "data = pd.read_csv('listings_Denvor.csv')"
   ]
  },
  {
   "cell_type": "code",
   "execution_count": 3,
   "metadata": {
    "pycharm": {
     "is_executing": false
    }
   },
   "outputs": [
    {
     "data": {
      "text/plain": "     id                                         name  host_id  \\\n0   360  LoHi Secret garden at the Chickadee Cottage      666   \n1   590            Comfortable  - and a great value!      933   \n2   592                                      private      933   \n3  1940             Baker Studio Close to EVERYTHING     2150   \n4  2086                           Garden Level Condo     2284   \n\n             host_name host_since                    host_location  \\\n0  Jennifer & Giovanni   7/8/2008  Denver, Colorado, United States   \n1                 Jill  7/21/2008  Denver, Colorado, United States   \n2                 Jill  7/21/2008  Denver, Colorado, United States   \n3               Joanne  8/16/2008  Denver, Colorado, United States   \n4                 Katy  8/19/2008  Denver, Colorado, United States   \n\n  host_response_time host_response_rate host_is_superhost  \\\n0     within an hour               100%                 t   \n1     within an hour               100%                 t   \n2     within an hour               100%                 t   \n3     within an hour               100%                 t   \n4     within an hour               100%                 f   \n\n  neighbourhood_cleansed  ... extra_people minimum_nights  maximum_nights  \\\n0               Highland  ...      $15.00               1              29   \n1        North Park Hill  ...       $5.00               1             300   \n2        North Park Hill  ...       $5.00              30             365   \n3                  Baker  ...     $100.00               2             120   \n4                   Hale  ...      $25.00             180            1125   \n\n  availability_365 number_of_reviews number_of_reviews_ltm first_review  \\\n0              319                82                    68    8/13/2018   \n1               64               585                    37    3/29/2009   \n2              130               176                     8    2/21/2009   \n3              137                41                    19    1/24/2017   \n4              358                12                     1    3/11/2018   \n\n   last_review  review_scores_rating reviews_per_month  \n0    9/20/2019                 100.0              5.94  \n1    9/29/2019                  97.0              4.57  \n2     9/6/2019                  97.0              1.36  \n3    9/21/2019                  99.0              1.26  \n4   10/21/2018                  96.0              0.63  \n\n[5 rows x 38 columns]",
      "text/html": "<div>\n<style scoped>\n    .dataframe tbody tr th:only-of-type {\n        vertical-align: middle;\n    }\n\n    .dataframe tbody tr th {\n        vertical-align: top;\n    }\n\n    .dataframe thead th {\n        text-align: right;\n    }\n</style>\n<table border=\"1\" class=\"dataframe\">\n  <thead>\n    <tr style=\"text-align: right;\">\n      <th></th>\n      <th>id</th>\n      <th>name</th>\n      <th>host_id</th>\n      <th>host_name</th>\n      <th>host_since</th>\n      <th>host_location</th>\n      <th>host_response_time</th>\n      <th>host_response_rate</th>\n      <th>host_is_superhost</th>\n      <th>neighbourhood_cleansed</th>\n      <th>...</th>\n      <th>extra_people</th>\n      <th>minimum_nights</th>\n      <th>maximum_nights</th>\n      <th>availability_365</th>\n      <th>number_of_reviews</th>\n      <th>number_of_reviews_ltm</th>\n      <th>first_review</th>\n      <th>last_review</th>\n      <th>review_scores_rating</th>\n      <th>reviews_per_month</th>\n    </tr>\n  </thead>\n  <tbody>\n    <tr>\n      <th>0</th>\n      <td>360</td>\n      <td>LoHi Secret garden at the Chickadee Cottage</td>\n      <td>666</td>\n      <td>Jennifer &amp; Giovanni</td>\n      <td>7/8/2008</td>\n      <td>Denver, Colorado, United States</td>\n      <td>within an hour</td>\n      <td>100%</td>\n      <td>t</td>\n      <td>Highland</td>\n      <td>...</td>\n      <td>$15.00</td>\n      <td>1</td>\n      <td>29</td>\n      <td>319</td>\n      <td>82</td>\n      <td>68</td>\n      <td>8/13/2018</td>\n      <td>9/20/2019</td>\n      <td>100.0</td>\n      <td>5.94</td>\n    </tr>\n    <tr>\n      <th>1</th>\n      <td>590</td>\n      <td>Comfortable  - and a great value!</td>\n      <td>933</td>\n      <td>Jill</td>\n      <td>7/21/2008</td>\n      <td>Denver, Colorado, United States</td>\n      <td>within an hour</td>\n      <td>100%</td>\n      <td>t</td>\n      <td>North Park Hill</td>\n      <td>...</td>\n      <td>$5.00</td>\n      <td>1</td>\n      <td>300</td>\n      <td>64</td>\n      <td>585</td>\n      <td>37</td>\n      <td>3/29/2009</td>\n      <td>9/29/2019</td>\n      <td>97.0</td>\n      <td>4.57</td>\n    </tr>\n    <tr>\n      <th>2</th>\n      <td>592</td>\n      <td>private</td>\n      <td>933</td>\n      <td>Jill</td>\n      <td>7/21/2008</td>\n      <td>Denver, Colorado, United States</td>\n      <td>within an hour</td>\n      <td>100%</td>\n      <td>t</td>\n      <td>North Park Hill</td>\n      <td>...</td>\n      <td>$5.00</td>\n      <td>30</td>\n      <td>365</td>\n      <td>130</td>\n      <td>176</td>\n      <td>8</td>\n      <td>2/21/2009</td>\n      <td>9/6/2019</td>\n      <td>97.0</td>\n      <td>1.36</td>\n    </tr>\n    <tr>\n      <th>3</th>\n      <td>1940</td>\n      <td>Baker Studio Close to EVERYTHING</td>\n      <td>2150</td>\n      <td>Joanne</td>\n      <td>8/16/2008</td>\n      <td>Denver, Colorado, United States</td>\n      <td>within an hour</td>\n      <td>100%</td>\n      <td>t</td>\n      <td>Baker</td>\n      <td>...</td>\n      <td>$100.00</td>\n      <td>2</td>\n      <td>120</td>\n      <td>137</td>\n      <td>41</td>\n      <td>19</td>\n      <td>1/24/2017</td>\n      <td>9/21/2019</td>\n      <td>99.0</td>\n      <td>1.26</td>\n    </tr>\n    <tr>\n      <th>4</th>\n      <td>2086</td>\n      <td>Garden Level Condo</td>\n      <td>2284</td>\n      <td>Katy</td>\n      <td>8/19/2008</td>\n      <td>Denver, Colorado, United States</td>\n      <td>within an hour</td>\n      <td>100%</td>\n      <td>f</td>\n      <td>Hale</td>\n      <td>...</td>\n      <td>$25.00</td>\n      <td>180</td>\n      <td>1125</td>\n      <td>358</td>\n      <td>12</td>\n      <td>1</td>\n      <td>3/11/2018</td>\n      <td>10/21/2018</td>\n      <td>96.0</td>\n      <td>0.63</td>\n    </tr>\n  </tbody>\n</table>\n<p>5 rows × 38 columns</p>\n</div>"
     },
     "metadata": {},
     "output_type": "execute_result",
     "execution_count": 3
    }
   ],
   "source": [
    "data.head()"
   ]
  },
  {
   "cell_type": "code",
   "execution_count": 4,
   "metadata": {
    "pycharm": {
     "is_executing": false
    }
   },
   "outputs": [
    {
     "data": {
      "text/plain": "id                           0\nname                         0\nhost_id                      0\nhost_name                    4\nhost_since                   4\nhost_location                9\nhost_response_time         591\nhost_response_rate         591\nhost_is_superhost            4\nneighbourhood_cleansed       0\ncity                         1\nstate                        1\nzipcode                     47\nmarket                       6\nsmart_location               0\ncountry_code                 0\ncountry                      0\nlatitude                     0\nlongitude                    0\nproperty_type                0\nroom_type                    0\naccommodates                 0\nbathrooms                    3\nbedrooms                     0\nbeds                         0\nsquare_feet               4578\nprice                        0\ncleaning_fee               392\nextra_people                 0\nminimum_nights               0\nmaximum_nights               0\navailability_365             0\nnumber_of_reviews            0\nnumber_of_reviews_ltm        0\nfirst_review               453\nlast_review                453\nreview_scores_rating       474\nreviews_per_month          453\ndtype: int64"
     },
     "metadata": {},
     "output_type": "execute_result",
     "execution_count": 4
    }
   ],
   "source": [
    "data.isnull().sum()"
   ]
  },
  {
   "cell_type": "markdown",
   "metadata": {},
   "source": [
    "- host_name 은 'dummy name'으로 채우기\n",
    "- host_since는 first_review로 채우고 둘다 null이면 삭제, DL 용이하도록 2019년에서 빼서 운영 기간으로 변환\n",
    "- square_feet는 거의 전체가 null\n",
    "- first_review와 last_review는 부정확한 데이터를 채워가며 복원하기엔 중요도가 떨어짐\n",
    "- review_scores_rating과 review_per_month는 중요한 데이터인데 missing인 경우, 추천이 힘드므로, 복원하기보단 이 행들이 null인 열을 삭제\n",
    "- cleaning_fee는 삭제\n",
    "- host_is_superhost는 딥러닝하여 추론(다른 파일에서 할 것임)\n",
    "- zipcode도 별로 중요치 않으므로 삭제\n",
    "- host_response 관련 데이터는 숙소 추천에 아주 중요하지는 않으므로 삭제, host_name도 중요도 떨어지므로 삭제\n",
    "- market 결손치는 city로 채우기\n",
    "- city 는 host_location 잘라서 채우기\n",
    "- state는 CO 밖에 없으니까 삭제\n",
    "- host_location은 US, CO 까지 모두 동일하며 도시 정보는 city에 있으므로 삭제\n",
    "- bathrooms는 중요할 수 있고, 해당 데이터가 없는 행이 얼마 없으므로 행을 삭제"
   ]
  },
  {
   "cell_type": "code",
   "execution_count": 5,
   "metadata": {
    "pycharm": {
     "is_executing": false
    }
   },
   "outputs": [],
   "source": [
    "data['host_name'] = data['host_name'].fillna('dummy name')"
   ]
  },
  {
   "cell_type": "code",
   "execution_count": 6,
   "metadata": {
    "pycharm": {
     "is_executing": false
    }
   },
   "outputs": [],
   "source": [
    "data['host_since'] = np.where(pd.notnull(data['host_since']) == True, data['host_since'], data['first_review'])\n",
    "data['market'] = np.where(pd.notnull(data['market']) == True, data['market'], data['city'])"
   ]
  },
  {
   "cell_type": "code",
   "execution_count": 7,
   "metadata": {
    "pycharm": {
     "is_executing": false
    }
   },
   "outputs": [],
   "source": [
    "data[\"host_since\"] = data[\"host_since\"].astype('datetime64')\n",
    "data[\"host_since\"] = 2019 - data[\"host_since\"].dt.year"
   ]
  },
  {
   "cell_type": "code",
   "execution_count": 8,
   "metadata": {
    "pycharm": {
     "is_executing": false
    }
   },
   "outputs": [
    {
     "data": {
      "text/plain": "          id                                name  host_id host_name  \\\n476  8402415  Beautiful Victorian in S. Broadway  4306842      Eric   \n\n     host_since                    host_location  host_response_time  \\\n476           7  Denver, Colorado, United States  within a few hours   \n\n    host_response_rate host_is_superhost neighbourhood_cleansed  ...  \\\n476               100%                 t                  Speer  ...   \n\n    extra_people minimum_nights  maximum_nights availability_365  \\\n476       $0.00               2            1125              322   \n\n    number_of_reviews number_of_reviews_ltm first_review  last_review  \\\n476               127                    15    10/1/2015    8/19/2019   \n\n     review_scores_rating reviews_per_month  \n476                 100.0              2.61  \n\n[1 rows x 38 columns]",
      "text/html": "<div>\n<style scoped>\n    .dataframe tbody tr th:only-of-type {\n        vertical-align: middle;\n    }\n\n    .dataframe tbody tr th {\n        vertical-align: top;\n    }\n\n    .dataframe thead th {\n        text-align: right;\n    }\n</style>\n<table border=\"1\" class=\"dataframe\">\n  <thead>\n    <tr style=\"text-align: right;\">\n      <th></th>\n      <th>id</th>\n      <th>name</th>\n      <th>host_id</th>\n      <th>host_name</th>\n      <th>host_since</th>\n      <th>host_location</th>\n      <th>host_response_time</th>\n      <th>host_response_rate</th>\n      <th>host_is_superhost</th>\n      <th>neighbourhood_cleansed</th>\n      <th>...</th>\n      <th>extra_people</th>\n      <th>minimum_nights</th>\n      <th>maximum_nights</th>\n      <th>availability_365</th>\n      <th>number_of_reviews</th>\n      <th>number_of_reviews_ltm</th>\n      <th>first_review</th>\n      <th>last_review</th>\n      <th>review_scores_rating</th>\n      <th>reviews_per_month</th>\n    </tr>\n  </thead>\n  <tbody>\n    <tr>\n      <th>476</th>\n      <td>8402415</td>\n      <td>Beautiful Victorian in S. Broadway</td>\n      <td>4306842</td>\n      <td>Eric</td>\n      <td>7</td>\n      <td>Denver, Colorado, United States</td>\n      <td>within a few hours</td>\n      <td>100%</td>\n      <td>t</td>\n      <td>Speer</td>\n      <td>...</td>\n      <td>$0.00</td>\n      <td>2</td>\n      <td>1125</td>\n      <td>322</td>\n      <td>127</td>\n      <td>15</td>\n      <td>10/1/2015</td>\n      <td>8/19/2019</td>\n      <td>100.0</td>\n      <td>2.61</td>\n    </tr>\n  </tbody>\n</table>\n<p>1 rows × 38 columns</p>\n</div>"
     },
     "metadata": {},
     "output_type": "execute_result",
     "execution_count": 8
    }
   ],
   "source": [
    "data.loc[data['city'].isnull(),'city'] = data[data['city'].isnull()]['host_location'].apply(lambda x: x.split(',')[0])\n",
    "data[data['id'] == 8402415]"
   ]
  },
  {
   "cell_type": "code",
   "execution_count": 9,
   "metadata": {
    "pycharm": {
     "is_executing": false
    }
   },
   "outputs": [],
   "source": [
    "data = data.drop('square_feet', axis=1)\n",
    "data = data.drop('first_review', axis=1)\n",
    "data = data.drop('last_review', axis=1)\n",
    "data = data.drop('host_response_time', axis=1)\n",
    "data = data.drop('host_response_rate', axis=1)\n",
    "data = data.drop('cleaning_fee', axis=1)\n",
    "data = data.drop('zipcode', axis=1)\n",
    "data = data.drop('state', axis=1)\n",
    "data = data.drop('host_location', axis=1)"
   ]
  },
  {
   "cell_type": "code",
   "execution_count": 10,
   "metadata": {
    "pycharm": {
     "is_executing": false
    }
   },
   "outputs": [],
   "source": [
    "data = data.dropna(subset=['review_scores_rating', 'reviews_per_month', 'bathrooms'])"
   ]
  },
  {
   "cell_type": "code",
   "execution_count": 12,
   "metadata": {
    "pycharm": {
     "is_executing": false
    }
   },
   "outputs": [
    {
     "data": {
      "text/plain": "id                        0\nname                      0\nhost_id                   0\nhost_name                 0\nhost_since                0\nhost_is_superhost         4\nneighbourhood_cleansed    0\ncity                      0\nmarket                    0\nsmart_location            0\ncountry_code              0\ncountry                   0\nlatitude                  0\nlongitude                 0\nproperty_type             0\nroom_type                 0\naccommodates              0\nbathrooms                 0\nbedrooms                  0\nbeds                      0\nprice                     0\nextra_people              0\nminimum_nights            0\nmaximum_nights            0\navailability_365          0\nnumber_of_reviews         0\nnumber_of_reviews_ltm     0\nreview_scores_rating      0\nreviews_per_month         0\ndtype: int64"
     },
     "metadata": {},
     "output_type": "execute_result",
     "execution_count": 12
    }
   ],
   "source": [
    "data.isnull().sum()"
   ]
  },
  {
   "cell_type": "code",
   "execution_count": null,
   "outputs": [],
   "source": [
    "data.to_csv(\"listings_Denvor_1.csv\")"
   ],
   "metadata": {
    "collapsed": false,
    "pycharm": {
     "name": "#%%\n"
    }
   }
  }
 ],
 "metadata": {
  "kernelspec": {
   "display_name": "Python 3",
   "language": "python",
   "name": "python3"
  },
  "language_info": {
   "codemirror_mode": {
    "name": "ipython",
    "version": 3
   },
   "file_extension": ".py",
   "mimetype": "text/x-python",
   "name": "python",
   "nbconvert_exporter": "python",
   "pygments_lexer": "ipython3",
   "version": "3.7.5"
  },
  "pycharm": {
   "stem_cell": {
    "cell_type": "raw",
    "source": [],
    "metadata": {
     "collapsed": false
    }
   }
  }
 },
 "nbformat": 4,
 "nbformat_minor": 2
}